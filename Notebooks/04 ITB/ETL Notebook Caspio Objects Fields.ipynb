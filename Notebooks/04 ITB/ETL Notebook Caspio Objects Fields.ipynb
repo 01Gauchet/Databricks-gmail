{
 "cells": [
  {
   "cell_type": "markdown",
   "metadata": {
    "application/vnd.databricks.v1+cell": {
     "cellMetadata": {},
     "inputWidgets": {},
     "nuid": "6615e252-2904-41a7-8f75-d9222af3650d",
     "showTitle": false,
     "title": ""
    }
   },
   "source": [
    "# ETL Pipeline for Caspion Tables and Views\n",
    "\n",
    "This notebook will provide a list of ***Caspio*** **Tables** and **Views**. The list will be stored in Table named **CaspioObjects**"
   ]
  },
  {
   "cell_type": "code",
   "execution_count": 0,
   "metadata": {
    "application/vnd.databricks.v1+cell": {
     "cellMetadata": {
      "byteLimit": 2048000,
      "rowLimit": 10000
     },
     "inputWidgets": {},
     "nuid": "7bd6b6aa-4e19-4d9b-87c0-82505ebd864f",
     "showTitle": false,
     "title": ""
    }
   },
   "outputs": [],
   "source": [
    "import pandas as pd\n",
    "import requests\n",
    "\n",
    "\n",
    "from pyspark.sql.functions import *\n",
    "from pyspark.sql import SparkSession\n",
    "\n",
    "spark = SparkSession.builder.getOrCreate()"
   ]
  },
  {
   "cell_type": "markdown",
   "metadata": {
    "application/vnd.databricks.v1+cell": {
     "cellMetadata": {},
     "inputWidgets": {},
     "nuid": "829615b8-732b-4dd8-ae19-2621a289885c",
     "showTitle": false,
     "title": ""
    }
   },
   "source": [
    "## Obtain **_Token_** from Caspio"
   ]
  },
  {
   "cell_type": "code",
   "execution_count": 0,
   "metadata": {
    "application/vnd.databricks.v1+cell": {
     "cellMetadata": {
      "byteLimit": 2048000,
      "rowLimit": 10000
     },
     "inputWidgets": {},
     "nuid": "ca30f68d-bf9f-4d6d-b123-e98aaf3de8a4",
     "showTitle": false,
     "title": ""
    }
   },
   "outputs": [],
   "source": [
    "# Define the API endpoint and your credentials\n",
    "token_url = \"https://c1acs125.caspio.com/oauth/token\"\n",
    "client_id = \"949bb92c93f44e05ced279e6480a6a0a16b3f402fb0f53438a\"\n",
    "client_secret = \"148669bbb258406c9ab30f0b407e172379ffd468e923f50fc8\"\n",
    "\n",
    "# Prepare the data for the token request\n",
    "data = {\n",
    "    \"grant_type\": \"client_credentials\",\n",
    "    \"client_id\": client_id,\n",
    "    \"client_secret\": client_secret\n",
    "}\n",
    "\n",
    "# Make a POST request to get the access token\n",
    "response = requests.post(token_url, data=data)\n",
    "\n",
    "# Check the response status and extract the access token\n",
    "if response.status_code == 200:\n",
    "    token_info = response.json()\n",
    "    access_token = token_info.get(\"access_token\")\n",
    "else:\n",
    "    print(f\"Failed to retrieve access token: {response.status_code}\")\n",
    "    access_token = None\n",
    "\n",
    "# Print the access token (for debugging purposes)\n",
    "print(f\"Access Token: {access_token}\")"
   ]
  },
  {
   "cell_type": "markdown",
   "metadata": {
    "application/vnd.databricks.v1+cell": {
     "cellMetadata": {},
     "inputWidgets": {},
     "nuid": "93e4b9f6-9077-447d-894b-d163fceaa6f0",
     "showTitle": false,
     "title": ""
    }
   },
   "source": [
    "### Constants and Variabes"
   ]
  },
  {
   "cell_type": "code",
   "execution_count": 0,
   "metadata": {
    "application/vnd.databricks.v1+cell": {
     "cellMetadata": {
      "byteLimit": 2048000,
      "rowLimit": 10000
     },
     "inputWidgets": {},
     "nuid": "ff77d302-bb00-4960-9062-2e7b646718a9",
     "showTitle": false,
     "title": ""
    }
   },
   "outputs": [],
   "source": [
    "lstOptions = ['tables','views']\n",
    "lstActions = ['records','fields']\n",
    "lstColumns = ['ObjectName','FieldName','Type','Description','DisplayOrder']\n",
    "\n",
    "strQCount = \"?q.select=count(*)\"\n",
    "strQLimit0001 = \"?q.limit=1\"\n",
    "strQLimit1000 = \"?q.limit=1000\"\n",
    "strRestAPI = \"https://c1acs125.caspio.com/rest/v2/\"\n",
    "\n",
    "# headers\n",
    "headers = {\n",
    "    \"Authorization\": f\"Bearer {access_token}\",\n",
    "    \"Content-Type\": \"application/json\"\n",
    "}"
   ]
  },
  {
   "cell_type": "markdown",
   "metadata": {
    "application/vnd.databricks.v1+cell": {
     "cellMetadata": {},
     "inputWidgets": {},
     "nuid": "f171355b-010a-413d-aafd-18e00b2e313a",
     "showTitle": false,
     "title": ""
    }
   },
   "source": [
    "### Get caspio_object table"
   ]
  },
  {
   "cell_type": "code",
   "execution_count": 0,
   "metadata": {
    "application/vnd.databricks.v1+cell": {
     "cellMetadata": {
      "byteLimit": 2048000,
      "rowLimit": 10000
     },
     "inputWidgets": {},
     "nuid": "f68f12e3-f061-4780-8e5f-ca14c34645ac",
     "showTitle": false,
     "title": ""
    }
   },
   "outputs": [],
   "source": [
    "df_objects = spark.read.format(\"delta\").table(\"main.itb_forecasting.tb_caspio_objects\").toPandas()\n",
    "\n",
    "#display(df_objects)"
   ]
  },
  {
   "cell_type": "markdown",
   "metadata": {
    "application/vnd.databricks.v1+cell": {
     "cellMetadata": {},
     "inputWidgets": {},
     "nuid": "c6b025ed-0f83-4908-b2b8-2d27b1cc7edf",
     "showTitle": false,
     "title": ""
    }
   },
   "source": [
    "### Dataframe for Caspio Object columns/fields"
   ]
  },
  {
   "cell_type": "code",
   "execution_count": 0,
   "metadata": {
    "application/vnd.databricks.v1+cell": {
     "cellMetadata": {
      "byteLimit": 2048000,
      "rowLimit": 10000
     },
     "inputWidgets": {},
     "nuid": "4ba44211-487d-4263-b53a-45a94adc8f1b",
     "showTitle": false,
     "title": ""
    }
   },
   "outputs": [],
   "source": [
    "# Dataframe for Caspio Object columns/fields\n",
    "\n",
    "df_objectFields = pd.DataFrame(columns=lstColumns)\n",
    "\n",
    "for index, row in df_objects.iterrows():\n",
    "    strApiFieldsURL = None\n",
    "    if row['type'] == 'tables':\n",
    "        strApiFieldsURL = strRestAPI + row['type']+ \"/\" + row['Result'] + \"/\" + lstActions[1]\n",
    "        print(\"Data API: \",strApiFieldsURL)\n",
    "        response = requests.get(strApiFieldsURL, headers=headers)\n",
    "        if (response.status_code == 200):\n",
    "            data = response.json()\n",
    "            #print(\"\\nData: \",data)\n",
    "            if len(data['Result']) > 0:\n",
    "                df_fields = pd.DataFrame(data=data['Result'])\n",
    "                df_fields = df_fields[['Name','Type','Description','DisplayOrder']].copy()\n",
    "                df_fields['ObjectName'] = row['Result']\n",
    "                df_objectFields = pd.concat([df_objectFields,df_fields])\n",
    "            \n",
    "        else:\n",
    "            print(f\"TABLES: Failed to retrieve data: {response}\")\n",
    "            print(strApiFieldsURL)\n",
    "    # Views definitions cannot be extracted via the current Caspio REST API\n",
    "    # extract view with one row and derive the fields\n",
    "    elif row['type'] == 'views':\n",
    "        strApiFieldsURL = strRestAPI + row['type']+ \"/\" + row['Result'] + \"/\" + lstActions[0] + strQLimit0001\n",
    "        print(\"Views API: \",strApiFieldsURL)\n",
    "        response = requests.get(strApiFieldsURL, headers=headers)\n",
    "        if (response.status_code == 200):\n",
    "            data = response.json()\n",
    "            #print(f\"Data: {data}\")\n",
    "            if len(data['Result']) > 0:\n",
    "                serFields = pd.DataFrame(data=data['Result']).dtypes\n",
    "                lstRow = []\n",
    "                for index in range(0,len(serFields),1):\n",
    "                      lstRow.append([row['Result'],serFields.index[index],str(serFields.values[index]),'',index])\n",
    "\n",
    "                df_fields = pd.DataFrame(data=lstRow,columns=lstColumns)\n",
    "                df_objectFields = pd.concat([df_objectFields,df_fields])\n",
    "                #del df_fields\n",
    "        else:\n",
    "            print(f\"VIEWS: Failed to retrieve data: {response}\")\n",
    "            print(strApiFieldsURL)"
   ]
  },
  {
   "cell_type": "markdown",
   "metadata": {
    "application/vnd.databricks.v1+cell": {
     "cellMetadata": {},
     "inputWidgets": {},
     "nuid": "802324f1-2602-47a6-9c6e-7e3e8ad7200c",
     "showTitle": false,
     "title": ""
    }
   },
   "source": [
    "### Create Delta Live Tables"
   ]
  },
  {
   "cell_type": "code",
   "execution_count": 0,
   "metadata": {
    "application/vnd.databricks.v1+cell": {
     "cellMetadata": {
      "byteLimit": 2048000,
      "rowLimit": 10000
     },
     "inputWidgets": {},
     "nuid": "8e449888-16e1-409c-a84f-f610afebc777",
     "showTitle": false,
     "title": ""
    }
   },
   "outputs": [],
   "source": [
    "# Ensure consistent data types\n",
    "for column in df_objectFields.columns:\n",
    "        if df_objectFields[column].dtype == 'int64':\n",
    "            df_objectFields[column] = df_objectFields[column].astype('float64')\n",
    "        elif df_objectFields[column].dtype == 'object':\n",
    "            df_objectFields[column] = df_objectFields[column].astype('string')"
   ]
  },
  {
   "cell_type": "code",
   "execution_count": 0,
   "metadata": {
    "application/vnd.databricks.v1+cell": {
     "cellMetadata": {
      "byteLimit": 2048000,
      "rowLimit": 10000
     },
     "inputWidgets": {},
     "nuid": "85d06849-3b5a-44bd-be7f-42d7afb67d28",
     "showTitle": false,
     "title": ""
    }
   },
   "outputs": [],
   "source": [
    "# create a Spark Dataframe to store the data as a permanent table\n",
    "dfs_objectFields = spark.createDataFrame(df_objectFields)"
   ]
  },
  {
   "cell_type": "code",
   "execution_count": 0,
   "metadata": {
    "application/vnd.databricks.v1+cell": {
     "cellMetadata": {
      "byteLimit": 2048000,
      "rowLimit": 10000
     },
     "inputWidgets": {},
     "nuid": "b577f81c-a251-4761-b7c3-e5d218973528",
     "showTitle": false,
     "title": ""
    }
   },
   "outputs": [],
   "source": [
    "strTable = \"main.itb_forecasting.tb_caspio_object_fields\""
   ]
  },
  {
   "cell_type": "code",
   "execution_count": 0,
   "metadata": {
    "application/vnd.databricks.v1+cell": {
     "cellMetadata": {
      "byteLimit": 2048000,
      "rowLimit": 10000
     },
     "inputWidgets": {},
     "nuid": "f3fa18d4-ada4-4ada-adc2-6c711b5f8cd5",
     "showTitle": false,
     "title": ""
    }
   },
   "outputs": [],
   "source": [
    "# Write the data to a permanent table in delta format. \n",
    "# Delta format is a columnar storage format that provides high performance and low latency for data warehousing workloads.\n",
    "# Parquet is a popular format for data warehousing, but it is not optimized for streaming and batch processing.\n",
    "\n",
    "dfs_objectFields.write.format(\"delta\").mode(\"overwrite\").option(\"mergeSchema\", \"true\").saveAsTable(strTable)"
   ]
  },
  {
   "cell_type": "markdown",
   "metadata": {
    "application/vnd.databricks.v1+cell": {
     "cellMetadata": {},
     "inputWidgets": {},
     "nuid": "905a6dcc-d091-40e2-a491-b1050bd461ac",
     "showTitle": false,
     "title": ""
    }
   },
   "source": [
    "### Assign permissions"
   ]
  },
  {
   "cell_type": "code",
   "execution_count": 0,
   "metadata": {
    "application/vnd.databricks.v1+cell": {
     "cellMetadata": {
      "byteLimit": 2048000,
      "rowLimit": 10000
     },
     "inputWidgets": {},
     "nuid": "9eba1f01-cdb6-4339-999d-baa9a7dce6b5",
     "showTitle": false,
     "title": ""
    }
   },
   "outputs": [],
   "source": [
    "# Assign permissions to the table\n",
    "spark.sql(\"GRANT SELECT ON TABLE main.itb_forecasting.tb_caspio_object_fields TO `KID_Forecasting`\")"
   ]
  },
  {
   "cell_type": "code",
   "execution_count": 0,
   "metadata": {
    "application/vnd.databricks.v1+cell": {
     "cellMetadata": {},
     "inputWidgets": {},
     "nuid": "69555f48-b83a-4803-a44f-121b01f3fa48",
     "showTitle": false,
     "title": ""
    }
   },
   "outputs": [],
   "source": [
    "%sql\n",
    "--GRANT SELECT ON main.itb_forecasting.tb_caspio_objects TO `KID_Forecasting`;"
   ]
  },
  {
   "cell_type": "code",
   "execution_count": 0,
   "metadata": {
    "application/vnd.databricks.v1+cell": {
     "cellMetadata": {
      "byteLimit": 2048000,
      "implicitDf": true,
      "rowLimit": 10000
     },
     "inputWidgets": {},
     "nuid": "a173ec6a-dcb8-419a-b51d-224aba15ceb4",
     "showTitle": false,
     "title": ""
    }
   },
   "outputs": [],
   "source": [
    "%sql\n",
    "use main.itb_forecasting;\n",
    "\n",
    "show tables;\n",
    "\n",
    "--DESCRIBE SCHEMA EXTENDED main.itb_forecasting;"
   ]
  },
  {
   "cell_type": "code",
   "execution_count": 0,
   "metadata": {
    "application/vnd.databricks.v1+cell": {
     "cellMetadata": {
      "byteLimit": 2048000,
      "implicitDf": true,
      "rowLimit": 10000
     },
     "inputWidgets": {},
     "nuid": "4cceae64-886c-49e1-a2bf-f3dd112881ff",
     "showTitle": false,
     "title": ""
    }
   },
   "outputs": [],
   "source": [
    "%sql\n",
    "select count(*) from main.itb_forecasting.tb_caspio_objects;\n",
    "select * from main.itb_forecasting.tb_caspio_objects where priority = 1 and type = 'views';"
   ]
  }
 ],
 "metadata": {
  "application/vnd.databricks.v1+notebook": {
   "dashboards": [],
   "environmentMetadata": null,
   "language": "python",
   "notebookMetadata": {
    "mostRecentlyExecutedCommandWithImplicitDF": {
     "commandId": 3263986506434193,
     "dataframes": [
      "_sqldf"
     ]
    },
    "pythonIndentUnit": 4
   },
   "notebookName": "ETL Notebook Caspio Objects Fields",
   "widgets": {}
  }
 },
 "nbformat": 4,
 "nbformat_minor": 0
}
